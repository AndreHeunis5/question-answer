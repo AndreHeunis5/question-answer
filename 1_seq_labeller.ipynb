{
 "cells": [
  {
   "cell_type": "code",
   "execution_count": 1,
   "id": "56bc69ed-65bf-4735-b38f-f693b799a524",
   "metadata": {},
   "outputs": [],
   "source": [
    "import json\n",
    "import re\n",
    "import spacy\n",
    "from spacy.tokens import DocBin"
   ]
  },
  {
   "cell_type": "markdown",
   "id": "d0bc1c7b-b89f-4223-9b46-3649079196c4",
   "metadata": {},
   "source": [
    "# Explore data"
   ]
  },
  {
   "cell_type": "code",
   "execution_count": 2,
   "id": "dcb8cfa3-d7d0-4ed3-a9ae-7fe2ee293df4",
   "metadata": {},
   "outputs": [
    {
     "data": {
      "text/plain": [
       "dict_keys(['questions', 'train', 'valid'])"
      ]
     },
     "execution_count": 2,
     "metadata": {},
     "output_type": "execute_result"
    }
   ],
   "source": [
    "with open('data/dataset_lcquad2.json') as df:\n",
    "    lcquad2_data = json.load(df)\n",
    "lcquad2_data.keys()"
   ]
  },
  {
   "cell_type": "code",
   "execution_count": 4,
   "id": "8d553c82-21db-416b-bb5d-12f38d98f0ee",
   "metadata": {},
   "outputs": [
    {
     "name": "stdout",
     "output_type": "stream",
     "text": [
      "Is Harrelson the real family name of Woody Harrelson?\n",
      "[{'label': 'Woody_Harrelson', 'entity': 'wd:Q201279'}, {'label': 'Harrelson', 'entity': 'wd:Q21450338'}]\n"
     ]
    }
   ],
   "source": [
    "print(lcquad2_data['questions'][2]['natural_language_question'])\n",
    "# print(lcquad2_data['questions'][0]['query_answer'][0]['sparql_query'])\n",
    "print(lcquad2_data['questions'][2]['query_answer'][0]['entities'])\n",
    "# print(lcquad2_data['questions'][0]['query_answer'][0]['slots'])\n",
    "# print(lcquad2_data['questions'][0]['query_answer'][0]['sparql_template'])"
   ]
  },
  {
   "cell_type": "code",
   "execution_count": null,
   "id": "2dce4458-4162-4f2b-8897-1a051881d4a2",
   "metadata": {},
   "outputs": [],
   "source": [
    "print(len(lcquad2_data['questions']))"
   ]
  },
  {
   "cell_type": "code",
   "execution_count": null,
   "id": "bb1793fc-e6f0-4f38-b251-fe3c1fd28c80",
   "metadata": {},
   "outputs": [],
   "source": [
    "slot_types = set()\n",
    "\n",
    "for q in lcquad2_data['questions']:\n",
    "    for s in q['query_answer'][0]['slots']:\n",
    "        slot_types.add(s['slot'])\n",
    "slot_types"
   ]
  },
  {
   "cell_type": "code",
   "execution_count": null,
   "id": "ee9375a8-89e3-4d91-94cc-95f95f9f3ab5",
   "metadata": {},
   "outputs": [],
   "source": [
    "for q in lcquad2_data['questions']:\n",
    "    for s in q['query_answer'][0]['slots']:\n",
    "        if s['slot'] == '<num>':\n",
    "            print(q['natural_language_question'])\n",
    "            print(q['query_answer'])"
   ]
  },
  {
   "cell_type": "markdown",
   "id": "6cb44bb9-f781-477c-a572-13e07b1f6818",
   "metadata": {},
   "source": [
    "# Get data into spacy format"
   ]
  },
  {
   "cell_type": "code",
   "execution_count": null,
   "id": "e76bcf80-60d9-44a7-8c82-86926e04f20a",
   "metadata": {},
   "outputs": [],
   "source": [
    "# Construct dataset for spacy custom NER training\n",
    "all_questions = []\n",
    "\n",
    "for q in lcquad2_data['questions']:\n",
    "\n",
    "    qi = q['natural_language_question']\n",
    "\n",
    "    ents = []\n",
    "    for e in q['query_answer'][0]['entities']:\n",
    "        s = qi.find(re.sub('_', ' ', e['label']))\n",
    "\n",
    "        if s > -1:\n",
    "            e = s + len(e['label'])            \n",
    "            ents.append((s, e, entity_label))\n",
    "\n",
    "    if len(ents) > 0:\n",
    "        all_questions.append((qi, ents))\n",
    "\n",
    "print(len(all_questions))\n",
    "all_questions[:2]"
   ]
  },
  {
   "cell_type": "code",
   "execution_count": null,
   "id": "2e7c77b4-f5a5-4886-b6fe-7ddd3ede68e2",
   "metadata": {},
   "outputs": [],
   "source": [
    "all_questions[44]"
   ]
  },
  {
   "cell_type": "code",
   "execution_count": null,
   "id": "33aa86e0-008d-467f-88ab-2776812b9501",
   "metadata": {},
   "outputs": [],
   "source": [
    "nlp = spacy.blank(\"en\")\n",
    "# training_data = [\n",
    "#   (\"Tokyo Tower is 333m tall.\", [(0, 11, \"BUILDING\")]),\n",
    "# ]\n",
    "\n",
    "# the DocBin will store the example documents\n",
    "db = DocBin()\n",
    "invalid = []\n",
    "for i, (text, annotations) in enumerate(all_questions):\n",
    "    if i % 1000 == 0:\n",
    "        print(i)\n",
    "        \n",
    "    try:\n",
    "        doc = nlp(text)\n",
    "        ents = []\n",
    "        for start, end, label in annotations:\n",
    "            span = doc.char_span(start, end, label=label)\n",
    "            ents.append(span)\n",
    "        doc.ents = ents\n",
    "        db.add(doc)\n",
    "    except:\n",
    "        invalid.append(i)\n",
    "print(f'{len(invalid)} were invalid')\n",
    "db.to_disk(\"data/train.spacy\") # train dev"
   ]
  },
  {
   "cell_type": "markdown",
   "id": "afca4c0a-bfc0-49b9-9dc8-3dc797b8e3b0",
   "metadata": {},
   "source": [
    "# Train Spacy NER model"
   ]
  },
  {
   "cell_type": "code",
   "execution_count": null,
   "id": "cdb49b16-f5b6-41c1-9027-ae49851ee85a",
   "metadata": {},
   "outputs": [],
   "source": [
    "!python -m spacy init config --lang en --pipeline ner data/config.cfg --force"
   ]
  },
  {
   "cell_type": "code",
   "execution_count": null,
   "id": "1ba17c3c-c22f-46be-8c17-b8c461bec6a8",
   "metadata": {
    "tags": []
   },
   "outputs": [],
   "source": [
    "!python -m spacy train data/config.cfg --output data/ --paths.train data/train.spacy --paths.dev data/dev.spacy --training.eval_frequency 10 --training.max_steps 500"
   ]
  },
  {
   "cell_type": "code",
   "execution_count": null,
   "id": "dcc54a10-da7b-4ce4-84fe-27855f1ab2e3",
   "metadata": {},
   "outputs": [],
   "source": [
    "nlp1 = spacy.load(R\"data/model-last\") #load the best model\n",
    "doc = nlp1(\"Does FC Barcelona have Juan Jose Ibarretxe as a chairperson\") # input sample tex\n",
    "\n",
    "spacy.displacy.render(doc, style=\"ent\", jupyter=True) # display in Jupyter\n",
    "\n",
    "# nlp1 = spacy.load(R\"/content/ner_demo/training/model-last\") #load the best model\n",
    "# doc = nlp1(\"I like CA\") # input sample tex\n",
    "\n",
    "# spacy.displacy.render(doc, style=\"ent\", jupyter=True)"
   ]
  },
  {
   "cell_type": "code",
   "execution_count": null,
   "id": "81565342-1ce6-45b9-9c0d-7a77551ee761",
   "metadata": {},
   "outputs": [],
   "source": [
    "for ent in doc.ents:\n",
    "    print(ent.text, ent.start_char, ent.end_char, ent.label_)"
   ]
  },
  {
   "cell_type": "code",
   "execution_count": null,
   "id": "c6b19028-6193-47b6-b992-84d011ef5256",
   "metadata": {},
   "outputs": [],
   "source": []
  },
  {
   "cell_type": "code",
   "execution_count": null,
   "id": "468e44ff-46ff-41c6-a318-70c3c7afb878",
   "metadata": {
    "tags": []
   },
   "outputs": [],
   "source": []
  },
  {
   "cell_type": "code",
   "execution_count": null,
   "id": "37086119-6f69-4949-b962-6e73a8f2eef5",
   "metadata": {},
   "outputs": [],
   "source": []
  }
 ],
 "metadata": {
  "kernelspec": {
   "display_name": "Python 3 (ipykernel)",
   "language": "python",
   "name": "python3"
  },
  "language_info": {
   "codemirror_mode": {
    "name": "ipython",
    "version": 3
   },
   "file_extension": ".py",
   "mimetype": "text/x-python",
   "name": "python",
   "nbconvert_exporter": "python",
   "pygments_lexer": "ipython3",
   "version": "3.8.5"
  }
 },
 "nbformat": 4,
 "nbformat_minor": 5
}
